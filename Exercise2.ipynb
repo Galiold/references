{
  "nbformat": 4,
  "nbformat_minor": 0,
  "metadata": {
    "colab": {
      "name": "Exercise2.ipynb",
      "provenance": [],
      "collapsed_sections": [],
      "mount_file_id": "1yo9SgRwFBhQ1G3YO_MXvTz8_Ol3cqfdf",
      "authorship_tag": "ABX9TyNfFAxqrVzoKhtIry91Ywlq",
      "include_colab_link": true
    },
    "kernelspec": {
      "name": "python3",
      "display_name": "Python 3"
    },
    "accelerator": "GPU"
  },
  "cells": [
    {
      "cell_type": "markdown",
      "metadata": {
        "id": "view-in-github",
        "colab_type": "text"
      },
      "source": [
        "<a href=\"https://colab.research.google.com/github/Galiold/references/blob/master/Exercise2.ipynb\" target=\"_parent\"><img src=\"https://colab.research.google.com/assets/colab-badge.svg\" alt=\"Open In Colab\"/></a>"
      ]
    },
    {
      "cell_type": "code",
      "metadata": {
        "id": "M3XPBikrSb4E",
        "colab_type": "code",
        "colab": {}
      },
      "source": [
        "import cv2\n",
        "import matplotlib.pyplot as plt\n",
        "%matplotlib inline\n",
        "import numpy as np"
      ],
      "execution_count": 0,
      "outputs": []
    },
    {
      "cell_type": "code",
      "metadata": {
        "id": "Q8A2LIhWTGzk",
        "colab_type": "code",
        "colab": {}
      },
      "source": [
        "img = plt.imread('/content/drive/My Drive/Projects/Computer-Graphics/Fig3.35(a).jpg')"
      ],
      "execution_count": 0,
      "outputs": []
    },
    {
      "cell_type": "code",
      "metadata": {
        "id": "zUF-NcvuroMl",
        "colab_type": "code",
        "colab": {}
      },
      "source": [
        "noisy_image = np.copy(img)\n",
        "noise_thresh = 0.1\n",
        "\n",
        "for i in range(noisy_image.shape[0]):\n",
        "  for j in range(noisy_image.shape[1]):\n",
        "    if np.random.rand() < noise_thresh:\n",
        "      noisy_image[i, j] = 0\n",
        "    elif np.random.rand() > (1 - noise_thresh):\n",
        "      noisy_image[i, j] = 255\n",
        "\n",
        "noisy_image.shape"
      ],
      "execution_count": 0,
      "outputs": []
    },
    {
      "cell_type": "code",
      "metadata": {
        "id": "oBs7U4ciuLAl",
        "colab_type": "code",
        "colab": {}
      },
      "source": [
        "improved = np.copy(noisy_image)\n",
        "mean = np.copy(noisy_image)\n",
        "\n",
        "for i in range(improved.shape[0] - 1):\n",
        "  for j in range(improved.shape[1] - 1):\n",
        "    if improved[i, j] == 0 or improved[i, j] == 255:\n",
        "      filter = improved[i-1:i+2, j-1:j+2]\n",
        "      try:\n",
        "        improved[i, j] = np.median(filter)\n",
        "        mean[i, j] = np.mean(filter)\n",
        "      except:\n",
        "        pass\n",
        "\n",
        "fig, axes = plt.subplots(1, 4, figsize=(12,12))\n",
        "axes[0].imshow(img, 'gray')\n",
        "axes[0].title.set_text('Original')\n",
        "axes[1].imshow(noisy_image, 'gray')\n",
        "axes[1].title.set_text('Noisy')\n",
        "axes[2].imshow(mean, 'gray')\n",
        "axes[2].title.set_text('Mean Filter')\n",
        "axes[3].imshow(improved, 'gray')\n",
        "axes[3].title.set_text('Median Filter')\n",
        "\n",
        "fig.savefig('0.1.png')"
      ],
      "execution_count": 0,
      "outputs": []
    }
  ]
}